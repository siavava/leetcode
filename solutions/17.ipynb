{
 "cells": [
  {
   "cell_type": "markdown",
   "metadata": {},
   "source": [
    "# 17. Letter Combinations of a Phone Number\n",
    "\n",
    "Given a string containing digits from 2-9 inclusive,\n",
    "return all possible letter combinations that the number could represent.\n",
    "Return the answer in any order.\n",
    "\n",
    "A mapping of digits to letters (just like on the telephone buttons)\n",
    "is given below. Note that 1 does not map to any letters.\n",
    "\n",
    "<div style=\"max-width: 500px; margin: auto\">\n",
    "\n",
    "![dialpad](./resources/17.png)\n",
    "\n",
    "</div>\n",
    "\n",
    " \n",
    "## Example 1:\n",
    "\n",
    "```bash\n",
    "Input: digits = \"23\"\n",
    "Output: [\"ad\",\"ae\",\"af\",\"bd\",\"be\",\"bf\",\"cd\",\"ce\",\"cf\"]\n",
    "```\n",
    "\n",
    "## Example 2:\n",
    "\n",
    "```bash\n",
    "Input: digits = \"\"\n",
    "Output: []\n",
    "```\n",
    "\n",
    "## Example 3:\n",
    "\n",
    "```bash\n",
    "Input: digits = \"2\"\n",
    "Output: [\"a\",\"b\",\"c\"]\n",
    "```\n",
    "\n",
    "## Constraints:\n",
    "\n",
    "- `0 <= digits.length <= 4`\n",
    "- `digits[i]` is a digit in the range `['2', '9']`."
   ]
  },
  {
   "cell_type": "code",
   "execution_count": 8,
   "metadata": {},
   "outputs": [],
   "source": [
    "from typing import List, Tuple\n",
    "\n",
    "class Solution:\n",
    "    def letterCombinations(self, digits: str) -> List[str]:\n",
    "\n",
    "        mappings = {\n",
    "            2: [\"a\", \"b\", \"c\"],\n",
    "            3: [\"d\", \"e\", \"f\"],\n",
    "            4: [\"g\", \"h\", \"i\"],\n",
    "            5: [\"j\", \"k\", \"l\"],\n",
    "            6: [\"m\", \"n\", \"o\"],\n",
    "            7: [\"p\", \"q\", \"r\", \"s\"],\n",
    "            8: [\"t\", \"u\", \"v\"],\n",
    "            9: [\"w\", \"x\", \"y\", \"z\"]\n",
    "        }\n",
    "\n",
    "        n = len(digits)\n",
    "        if n == 0:\n",
    "            return []\n",
    "\n",
    "        decodings = [ \"\" ]\n",
    "        for digit in digits:\n",
    "            next_decodings = []\n",
    "\n",
    "            for char_value in mappings.get(int(digit), []):\n",
    "                for decoding in decodings:\n",
    "                    next_decodings.append(f\"{decoding}{char_value}\")\n",
    "\n",
    "            decodings = next_decodings\n",
    "\n",
    "        return decodings"
   ]
  },
  {
   "cell_type": "code",
   "execution_count": 9,
   "metadata": {},
   "outputs": [
    {
     "name": "stdout",
     "output_type": "stream",
     "text": [
      "Test case: 23\n",
      "Expected: ['ad', 'ae', 'af', 'bd', 'be', 'bf', 'cd', 'ce', 'cf']\n",
      "Actual: ['ad', 'ae', 'af', 'bd', 'be', 'bf', 'cd', 'ce', 'cf']\n",
      "Test case: \n",
      "Expected: []\n",
      "Actual: []\n",
      "Test case: 2\n",
      "Expected: ['a', 'b', 'c']\n",
      "Actual: ['a', 'b', 'c']\n"
     ]
    }
   ],
   "source": [
    "solver = Solution()\n",
    "\n",
    "test_cases: List[Tuple[str, List[str]]] = [\n",
    "    (\"23\", [\"ad\", \"ae\", \"af\", \"bd\", \"be\", \"bf\", \"cd\", \"ce\", \"cf\"]),\n",
    "    (\"\", []),\n",
    "    (\"2\", [\"a\", \"b\", \"c\"]),\n",
    "]\n",
    "\n",
    "for test_case, expected in test_cases:\n",
    "    print(f\"Test case: {test_case}\")\n",
    "    print(f\"Expected: {expected}\")\n",
    "    actual = sorted(solver.letterCombinations(test_case))\n",
    "    print(f\"Actual: {actual}\")\n",
    "    assert actual == expected"
   ]
  }
 ],
 "metadata": {
  "kernelspec": {
   "display_name": "leetcode",
   "language": "python",
   "name": "python3"
  },
  "language_info": {
   "codemirror_mode": {
    "name": "ipython",
    "version": 3
   },
   "file_extension": ".py",
   "mimetype": "text/x-python",
   "name": "python",
   "nbconvert_exporter": "python",
   "pygments_lexer": "ipython3",
   "version": "3.11.0"
  },
  "orig_nbformat": 4
 },
 "nbformat": 4,
 "nbformat_minor": 2
}
