{
 "cells": [
  {
   "cell_type": "markdown",
   "metadata": {},
   "source": [
    "# 7. Reverse Integer\n",
    "\n",
    "Given a signed 32-bit integer `x`, return `x` with its digits reversed.\n",
    "If reversing `x` causes the value to go outside the signed 32-bit integer range `[-2^31, 2^31 - 1]`,\n",
    "then return `0`.\n",
    "\n",
    "**_Assume the environment does not allow you to store 64-bit integers (signed or unsigned)._**\n",
    "\n",
    "## Example 1:\n",
    "\n",
    "```bash\n",
    "Input: x = 123\n",
    "Output: 321\n",
    "```\n",
    "\n",
    "## Example 2:\n",
    "\n",
    "```bash\n",
    "Input: x = -123\n",
    "Output: -321\n",
    "```\n",
    "\n",
    "## Example 3:\n",
    "\n",
    "```bash\n",
    "Input: x = 120\n",
    "Output: 21\n",
    "```\n",
    "\n",
    "## Constraints:\n",
    "\n",
    "- `-231 <= x <= 231 - 1`"
   ]
  },
  {
   "cell_type": "code",
   "execution_count": 1,
   "metadata": {},
   "outputs": [],
   "source": [
    "class Solution:\n",
    "    def reverse(self, x: int) -> int:\n",
    "\n",
    "        MIN, MAX = -(2 ** 31), (2 ** 31) - 1\n",
    "\n",
    "        sign = -1 if x < 0 else 1\n",
    "        x = abs(x)\n",
    "\n",
    "        result = 0\n",
    "        while x > 0:\n",
    "            last = x % 10\n",
    "\n",
    "            x //= 10\n",
    "\n",
    "            result = (result * 10) + last\n",
    "\n",
    "        result *= sign\n",
    "        return result if MIN <= result < MAX else 0\n"
   ]
  },
  {
   "cell_type": "code",
   "execution_count": 2,
   "metadata": {},
   "outputs": [
    {
     "name": "stdout",
     "output_type": "stream",
     "text": [
      "Input: 123\n",
      "Output: 321\n",
      "Expect: 321\n",
      "\n",
      "Input: -123\n",
      "Output: -321\n",
      "Expect: -321\n",
      "\n",
      "Input: 120\n",
      "Output: 21\n",
      "Expect: 21\n",
      "\n",
      "Input: 0\n",
      "Output: 0\n",
      "Expect: 0\n",
      "\n",
      "Input: 1534236469\n",
      "Output: 0\n",
      "Expect: 0\n",
      "\n"
     ]
    }
   ],
   "source": [
    "solver = Solution()\n",
    "\n",
    "testcases = [ 123, -123, 120, 0, 1534236469 ]\n",
    "expected = [ 321, -321, 21, 0, 0 ]\n",
    "\n",
    "for case, expect in zip(testcases, expected):\n",
    "    print(f\"Input: {case}\")\n",
    "    print(f\"Output: {solver.reverse(case)}\")\n",
    "    print(f\"Expect: {expect}\\n\")\n",
    "    \n"
   ]
  }
 ],
 "metadata": {
  "kernelspec": {
   "display_name": "leetcode",
   "language": "python",
   "name": "python3"
  },
  "language_info": {
   "codemirror_mode": {
    "name": "ipython",
    "version": 3
   },
   "file_extension": ".py",
   "mimetype": "text/x-python",
   "name": "python",
   "nbconvert_exporter": "python",
   "pygments_lexer": "ipython3",
   "version": "3.11.0"
  },
  "orig_nbformat": 4
 },
 "nbformat": 4,
 "nbformat_minor": 2
}
