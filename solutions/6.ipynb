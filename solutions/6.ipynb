{
 "cells": [
  {
   "cell_type": "markdown",
   "metadata": {},
   "source": [
    "# 6. ZigZag Conversion\n",
    "\n",
    "The string `\"PAYPALISHIRING\"` is written in a zigzag pattern on a given number of rows like this: (you may want to display this pattern in a fixed font for better legibility)\n",
    "\n",
    "```text\n",
    "P   A   H   N\n",
    "A P L S I I G\n",
    "Y   I   R\n",
    "```\n",
    "\n",
    "And then read line by line: `\"PAHNAPLSIIGYIR\"`\n",
    "\n",
    "Write the code that will take a string and make this conversion given a number of rows:\n",
    "\n",
    "```cpp\n",
    "string convert(string s, int numRows);\n",
    "```\n",
    " \n",
    "\n",
    "## Example 1:\n",
    "\n",
    "```bash\n",
    "Input: s = \"PAYPALISHIRING\", numRows = 3\n",
    "Output: \"PAHNAPLSIIGYIR\"\n",
    "```\n",
    "\n",
    "## Example 2:\n",
    "\n",
    "```text\n",
    "Input: s = \"PAYPALISHIRING\", numRows = 4\n",
    "Output: \"PINALSIGYAHRPI\"\n",
    "\n",
    "Explanation:\n",
    "\n",
    "P     I    N\n",
    "A   L S  I G\n",
    "Y A   H R\n",
    "P     I\n",
    "```\n",
    "\n",
    "## Example 3:\n",
    "\n",
    "```text\n",
    "Input: s = \"A\", numRows = 1\n",
    "Output: \"A\"\n",
    "```\n",
    " \n",
    "\n",
    "## Constraints:\n",
    "\n",
    "- `1 <= s.length <= 1000`\n",
    "- `s` consists of English letters (lower-case and upper-case), `','` and `'.'`.\n",
    "- `1 <= numRows <= 1000`\n"
   ]
  },
  {
   "cell_type": "code",
   "execution_count": 1,
   "metadata": {},
   "outputs": [],
   "source": [
    "from math import floor, ceil\n",
    "\n",
    "class Solution:\n",
    "    def convert(self, s: str, numRows: int) -> str:\n",
    "\n",
    "        rows = numRows\n",
    "\n",
    "        if rows == 1:\n",
    "            return s\n",
    "\n",
    "        M = [ [] for row in range(rows)]\n",
    "\n",
    "        n = len(s)\n",
    "        row = 0\n",
    "        direction = -1\n",
    "\n",
    "        for index in range(n):\n",
    "            M[row].append(s[index])\n",
    "\n",
    "            if row == 0 or row == rows-1:\n",
    "                direction = -direction\n",
    "\n",
    "            row += direction\n",
    "\n",
    "\n",
    "        result = []\n",
    "\n",
    "        for row in M:\n",
    "            result.extend(row)\n",
    "\n",
    "        return \"\".join(result)"
   ]
  },
  {
   "cell_type": "code",
   "execution_count": 4,
   "metadata": {},
   "outputs": [
    {
     "name": "stdout",
     "output_type": "stream",
     "text": [
      "['PAYPALISHIRING', 3] -> PAHNAPLSIIGYIR\n",
      "['PAYPALISHIRING', 4] -> PINALSIGYAHRPI\n",
      "['A', 1] -> A\n"
     ]
    }
   ],
   "source": [
    "testcases = [\n",
    "    [\"PAYPALISHIRING\", 3], # \"PAHNAPLSIIGYIR\"\n",
    "    [\"PAYPALISHIRING\", 4], # \"PINALSIGYAHRPI\"\n",
    "    [\"A\", 1] # \"A\"\n",
    "]\n",
    "\n",
    "solver = Solution()\n",
    "for tc in testcases:\n",
    "    print(f\"{tc} -> {solver.convert(*tc)}\")"
   ]
  }
 ],
 "metadata": {
  "kernelspec": {
   "display_name": "leetcode",
   "language": "python",
   "name": "python3"
  },
  "language_info": {
   "codemirror_mode": {
    "name": "ipython",
    "version": 3
   },
   "file_extension": ".py",
   "mimetype": "text/x-python",
   "name": "python",
   "nbconvert_exporter": "python",
   "pygments_lexer": "ipython3",
   "version": "3.11.0"
  },
  "orig_nbformat": 4
 },
 "nbformat": 4,
 "nbformat_minor": 2
}
