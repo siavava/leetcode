{
 "cells": [
  {
   "cell_type": "markdown",
   "metadata": {},
   "source": []
  },
  {
   "cell_type": "code",
   "execution_count": 1,
   "metadata": {},
   "outputs": [],
   "source": [
    "class Solution:\n",
    "    # def isPalindrome(self, x: int) -> bool:\n",
    "\n",
    "    #     \"\"\"\n",
    "    #         easy version: convert to string and check palindrome\n",
    "    #     \"\"\"\n",
    "\n",
    "    #     x = str(x)\n",
    "    #     n = len(x)\n",
    "\n",
    "    #     for i in range(len(x) // 2):\n",
    "    #         if x[i] != x[n - (1 + i)]:\n",
    "    #             return False\n",
    "\n",
    "    #     return True\n",
    "\n",
    "\n",
    "    def isPalindrome(self, x: int) -> bool:\n",
    "\n",
    "        \"\"\"\n",
    "            other version: do not convert to string...\n",
    "        \"\"\"\n",
    "\n",
    "        if x < 0:\n",
    "            return False\n",
    "\n",
    "        digits = []\n",
    "\n",
    "        while x > 0:\n",
    "            digits.append(x % 10)\n",
    "            x //= 10\n",
    "\n",
    "        n = len(digits)\n",
    "\n",
    "        l, r = 0, n-1\n",
    "        while l < r:\n",
    "            if digits[l] != digits[r]:\n",
    "                return False\n",
    "            l += 1\n",
    "            r -= 1\n",
    "\n",
    "        return True\n"
   ]
  },
  {
   "cell_type": "code",
   "execution_count": 2,
   "metadata": {},
   "outputs": [
    {
     "name": "stdout",
     "output_type": "stream",
     "text": [
      "121 -> True\n",
      "-121 -> False\n",
      "10 -> False\n",
      "-101 -> False\n",
      "0 -> True\n"
     ]
    }
   ],
   "source": [
    "solver = Solution()\n",
    "\n",
    "# Test cases\n",
    "cases = [\n",
    "    121,\n",
    "    -121,\n",
    "    10,\n",
    "    -101,\n",
    "    0,\n",
    "]\n",
    "\n",
    "for case in cases:\n",
    "    print(f\"{case} -> {solver.isPalindrome(case)}\")"
   ]
  }
 ],
 "metadata": {
  "kernelspec": {
   "display_name": "leetcode",
   "language": "python",
   "name": "python3"
  },
  "language_info": {
   "codemirror_mode": {
    "name": "ipython",
    "version": 3
   },
   "file_extension": ".py",
   "mimetype": "text/x-python",
   "name": "python",
   "nbconvert_exporter": "python",
   "pygments_lexer": "ipython3",
   "version": "3.11.0"
  },
  "orig_nbformat": 4
 },
 "nbformat": 4,
 "nbformat_minor": 2
}
