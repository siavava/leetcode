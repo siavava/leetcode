{
 "cells": [
  {
   "cell_type": "markdown",
   "metadata": {},
   "source": [
    "# 3. Longest Substring Without Repeating Characters\n",
    "\n",
    "Given a string s, find the length of the longest substring without repeating characters.\n",
    "\n",
    "## Example 1:\n",
    "\n",
    "```bash\n",
    "Input: s = \"abcabcbb\"\n",
    "Output: 3\n",
    "Explanation: The answer is \"abc\", with the length of 3.\n",
    "```\n",
    "\n",
    "## Example 2:\n",
    "\n",
    "```bash\n",
    "Input: s = \"bbbbb\"\n",
    "Output: 1\n",
    "Explanation: The answer is \"b\", with the length of 1.\n",
    "```\n",
    "\n",
    "## Example 3:\n",
    "\n",
    "```bash\n",
    "Input: s = \"pwwkew\"\n",
    "Output: 3\n",
    "Explanation: The answer is \"wke\", with the length of 3.\n",
    "Notice that the answer must be a substring, \"pwke\" is a subsequence and not a substring.\n",
    "```\n",
    "\n",
    "## Constraints:\n",
    "\n",
    "- `0 <= s.length <= 5 * 104`\n",
    "- `s` consists of English letters, digits, symbols and spaces."
   ]
  },
  {
   "cell_type": "code",
   "execution_count": 1,
   "metadata": {},
   "outputs": [],
   "source": [
    "from collections import Counter\n",
    "\n",
    "class Solution:\n",
    "    def lengthOfLongestSubstring(self, s: str) -> int:\n",
    "        \n",
    "        chars = Counter()\n",
    "        left = right = 0\n",
    "        res = 0\n",
    "        \n",
    "        while right < len(s):\n",
    "            r = s[right]\n",
    "            chars[r] += 1\n",
    "\n",
    "            while chars[r] > 1:\n",
    "                l = s[left]\n",
    "                chars[l] -= 1\n",
    "                left += 1\n",
    "\n",
    "            res = max(res, right - left + 1)\n",
    "            right += 1\n",
    "            \n",
    "        return res\n"
   ]
  },
  {
   "cell_type": "code",
   "execution_count": 3,
   "metadata": {},
   "outputs": [
    {
     "name": "stdout",
     "output_type": "stream",
     "text": [
      "abcabcbb: 3\n",
      "bbbbb: 1\n",
      "pwwkew: 3\n",
      ": 0\n"
     ]
    }
   ],
   "source": [
    "solver = Solution()\n",
    "\n",
    "# Test cases\n",
    "cases = [\n",
    "    \"abcabcbb\",  # abs\n",
    "    \"bbbbb\",     # b\n",
    "    \"pwwkew\",    # wke\n",
    "    \"\",\n",
    "]\n",
    "\n",
    "for case in cases:\n",
    "    print(f\"{case}: {solver.lengthOfLongestSubstring(case)}\")"
   ]
  }
 ],
 "metadata": {
  "kernelspec": {
   "display_name": "leetcode",
   "language": "python",
   "name": "python3"
  },
  "language_info": {
   "codemirror_mode": {
    "name": "ipython",
    "version": 3
   },
   "file_extension": ".py",
   "mimetype": "text/x-python",
   "name": "python",
   "nbconvert_exporter": "python",
   "pygments_lexer": "ipython3",
   "version": "3.11.0"
  },
  "orig_nbformat": 4
 },
 "nbformat": 4,
 "nbformat_minor": 2
}
