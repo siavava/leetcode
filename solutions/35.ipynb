{
 "cells": [
  {
   "cell_type": "markdown",
   "metadata": {},
   "source": [
    "# 35. Search Insert Position\n",
    "\n",
    "Given a sorted array of distinct integers and a target value,\n",
    "return the index if the target is found.\n",
    "If not, return the index where it would be if it were inserted in order.\n",
    "\n",
    "You must write an algorithm with O(log n) runtime complexity.\n",
    "\n",
    "## Example 1:\n",
    "\n",
    "```bash\n",
    "Input: nums = [1,3,5,6], target = 5\n",
    "Output: 2\n",
    "```\n",
    "\n",
    "## Example 2:\n",
    "\n",
    "```bash\n",
    "Input: nums = [1,3,5,6], target = 2\n",
    "Output: 1\n",
    "```\n",
    "\n",
    "### Example 3:\n",
    "\n",
    "```bash\n",
    "Input: nums = [1,3,5,6], target = 7\n",
    "Output: 4\n",
    "```\n",
    "\n",
    "## Constraints:\n",
    "\n",
    "- `1 <= nums.length <= 104`.\n",
    "- `-104 <= nums[i] <= 104`.\n",
    "- nums contains distinct values sorted in ascending order.\n",
    "- `-104 <= target <= 104`."
   ]
  },
  {
   "cell_type": "code",
   "execution_count": 61,
   "metadata": {},
   "outputs": [],
   "source": [
    "from typing import List\n",
    "\n",
    "class Solution:\n",
    "    def searchInsert(self, nums: List[int], target: int) -> int:\n",
    "        \n",
    "        left, right = 0, len(nums)-1\n",
    "        \n",
    "        while left <= right:\n",
    "            mid = (left + right) // 2\n",
    "            \n",
    "            if nums[mid] == target:\n",
    "                return mid\n",
    "\n",
    "            elif nums[mid] > target:\n",
    "                if mid == left:\n",
    "                    return mid\n",
    "\n",
    "                right = mid - 1\n",
    "\n",
    "            else:\n",
    "                if mid == right:\n",
    "                    return mid + 1\n",
    "\n",
    "                left = mid + 1\n"
   ]
  },
  {
   "cell_type": "code",
   "execution_count": 62,
   "metadata": {},
   "outputs": [
    {
     "name": "stdout",
     "output_type": "stream",
     "text": [
      "nums = [1, 3, 5, 6], target = 5, actual = 2, expected = 2\n",
      "nums = [1, 3, 5, 6], target = 2, actual = 1, expected = 1\n",
      "nums = [1, 3, 5, 6], target = 7, actual = 4, expected = 4\n",
      "\n",
      "nums   = [4, 51, 58, 61, 63, 65, 65, 67, 71, 76, 81, 86, 91, 97, 113, 116, 144, 159, 160, 167, 183, 187, 202, 216, 221, 221, 223, 231, 232, 263, 274, 280, 286, 321, 332, 341, 352, 355, 371, 372, 383, 399, 411, 434, 434, 446, 453, 454, 474, 477, 477, 479, 489, 503, 505, 506, 506, 522, 523, 524, 538, 555, 559, 567, 572, 583, 588, 590, 606, 644, 651, 683, 698, 717, 748, 758, 772, 779, 791, 799, 803, 804, 812, 812, 829, 834, 843, 860, 871, 877, 882, 882, 898, 918, 931, 949, 978, 985, 989, 997]\n",
      "target = 100\n",
      "actual = 14\n",
      "  \n"
     ]
    }
   ],
   "source": [
    "solver = Solution()\n",
    "\n",
    "test_cases = [\n",
    "    ([1,3,5,6], 5, 2),\n",
    "    ([1,3,5,6], 2, 1),\n",
    "    ([1,3,5,6], 7, 4),\n",
    "]\n",
    "\n",
    "for nums, target, expected in test_cases:\n",
    "    actual = solver.searchInsert(nums, target)\n",
    "    print(f\"{nums = }, {target = }, {actual = }, {expected = }\")\n",
    "    assert actual == expected\n",
    "\n",
    "from random import randint\n",
    "\n",
    "nums = [randint(0, 1000) for _ in range(100)]\n",
    "nums.sort()\n",
    "target = 100\n",
    "actual = solver.searchInsert(nums, target)\n",
    "\n",
    "print(f\"\"\"\n",
    "{nums   = }\n",
    "{target = }\n",
    "{actual = }\n",
    "  \"\"\")"
   ]
  }
 ],
 "metadata": {
  "kernelspec": {
   "display_name": "Python 3",
   "language": "python",
   "name": "python3"
  },
  "language_info": {
   "codemirror_mode": {
    "name": "ipython",
    "version": 3
   },
   "file_extension": ".py",
   "mimetype": "text/x-python",
   "name": "python",
   "nbconvert_exporter": "python",
   "pygments_lexer": "ipython3",
   "version": "3.11.4"
  },
  "orig_nbformat": 4
 },
 "nbformat": 4,
 "nbformat_minor": 2
}
