{
 "cells": [
  {
   "cell_type": "markdown",
   "metadata": {},
   "source": [
    "# 1. Two Sum\n",
    "\n",
    "Given an array of integers `nums` and an integer `target`, return indices of the two numbers such that they add up to `target`.\n",
    "\n",
    "You may assume that each input would have exactly one solution, and you may not use the same element twice.\n",
    "\n",
    "You can return the answer in any order.\n",
    "\n",
    "## Example 1:\n",
    "\n",
    "```bash\n",
    "Input: nums = [2,7,11,15], target = 9\n",
    "Output: [0,1]\n",
    "Explanation: Because nums[0] + nums[1] == 9, we return [0, 1].\n",
    "```\n",
    "\n",
    "## Example 2:\n",
    "\n",
    "```bash\n",
    "Input: nums = [3,2,4], target = 6\n",
    "Output: [1,2]\n",
    "```\n",
    "\n",
    "## Example 3:\n",
    "\n",
    "```bash\n",
    "Input: nums = [3,3], target = 6\n",
    "Output: [0,1]\n",
    "```\n",
    "\n",
    "## Constraints:\n",
    "\n",
    "- `2 <= nums.length <= 10^4`\n",
    "- `1-10^9 <= nums[i] <= 1091`\n",
    "- `1-10^9 <= target <= 1091`\n",
    "- **Only one valid answer exists**.\n",
    " \n",
    "\n",
    "Follow-up: Can you come up with an algorithm that is less than $O(n^2)$ time complexity?"
   ]
  },
  {
   "cell_type": "code",
   "execution_count": 2,
   "metadata": {},
   "outputs": [],
   "source": [
    "from typing import List\n",
    "\n",
    "class Solution:\n",
    "    def twoSum(self, nums: List[int], target: int) -> List[int]:\n",
    "        \n",
    "        counts = dict()\n",
    "        \n",
    "        for i, num in enumerate(nums):\n",
    "            \n",
    "            complement = target - num\n",
    "            \n",
    "            if complement in counts.keys():\n",
    "                ci = counts.get(complement)\n",
    "                return [ci, i]\n",
    "            \n",
    "            \n",
    "            counts[num] = i\n",
    "            \n",
    "        return []\n"
   ]
  },
  {
   "cell_type": "code",
   "execution_count": 6,
   "metadata": {},
   "outputs": [
    {
     "name": "stdout",
     "output_type": "stream",
     "text": [
      "All test cases passed!\n"
     ]
    }
   ],
   "source": [
    "solver = Solution()\n",
    "assert(solver.twoSum([2, 7, 11, 15], 9) == [0, 1])\n",
    "assert(solver.twoSum([3, 2, 4], 6) == [1, 2])\n",
    "assert(solver.twoSum([3], 6) == [])\n",
    "\n",
    "print('All test cases passed!')"
   ]
  }
 ],
 "metadata": {
  "kernelspec": {
   "display_name": "leetcode",
   "language": "python",
   "name": "python3"
  },
  "language_info": {
   "codemirror_mode": {
    "name": "ipython",
    "version": 3
   },
   "file_extension": ".py",
   "mimetype": "text/x-python",
   "name": "python",
   "nbconvert_exporter": "python",
   "pygments_lexer": "ipython3",
   "version": "3.11.0"
  },
  "orig_nbformat": 4
 },
 "nbformat": 4,
 "nbformat_minor": 2
}
