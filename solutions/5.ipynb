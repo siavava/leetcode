{
 "cells": [
  {
   "cell_type": "markdown",
   "metadata": {},
   "source": [
    "# Longest Palindromic Substring\n",
    "\n",
    "Given a string s, return the longest palindromic substring in s.\n",
    "\n",
    "## Example 1:\n",
    "\n",
    "```bash\n",
    "Input: s = \"babad\"\n",
    "Output: \"bab\"\n",
    "Explanation: \"aba\" is also a valid answer.\n",
    "```\n",
    "\n",
    "## Example 2:\n",
    "\n",
    "```bash\n",
    "Input: s = \"cbbd\"\n",
    "Output: \"bb\"\n",
    "```\n",
    "\n",
    "## Constraints:\n",
    "\n",
    "- `1 <= s.length <= 1000`\n",
    "- `s` consist of only digits and English letters."
   ]
  },
  {
   "cell_type": "code",
   "execution_count": 4,
   "metadata": {},
   "outputs": [],
   "source": [
    "class Solution:\n",
    "    def longestPalindrome(self, s: str) -> str:\n",
    "\n",
    "        n = len(s)\n",
    "        M = [ [False for col in range(n)] for row in range(n) ]\n",
    "        ans = (0, 0)\n",
    "        \n",
    "        for i in range(n):\n",
    "            M[i][i] = True\n",
    "        \n",
    "        for i in range(n - 1):\n",
    "            if s[i] == s[i + 1]:\n",
    "                M[i][i + 1] = True\n",
    "                ans = [i, i + 1]\n",
    "\n",
    "        for length in range(2, n):\n",
    "            for start in range(n - length):\n",
    "                end = start + length\n",
    "                if s[start] == s[end] and M[start + 1][end - 1]:\n",
    "                    M[start][end] = True\n",
    "                    ans = start, end\n",
    "\n",
    "        start, end = ans\n",
    "        return s[start:end+1]"
   ]
  },
  {
   "cell_type": "code",
   "execution_count": 5,
   "metadata": {},
   "outputs": [
    {
     "name": "stdout",
     "output_type": "stream",
     "text": [
      "babad: aba\n",
      "cbd: c\n",
      "cabbac: cabbac\n"
     ]
    }
   ],
   "source": [
    "# Test cases\n",
    "\n",
    "test_cases = [\n",
    "    # from problem statement\n",
    "    \"babad\",    # bab OR aba\n",
    "    \"cbd\",      # c OR b OR d\n",
    "    \"cabbac\",   # cabbac\n",
    "]\n",
    "\n",
    "solver = Solution()\n",
    "for test in test_cases:\n",
    "    print(f\"{test}: {solver.longestPalindrome(test)}\")\n",
    "\n"
   ]
  }
 ],
 "metadata": {
  "kernelspec": {
   "display_name": "leetcode",
   "language": "python",
   "name": "python3"
  },
  "language_info": {
   "codemirror_mode": {
    "name": "ipython",
    "version": 3
   },
   "file_extension": ".py",
   "mimetype": "text/x-python",
   "name": "python",
   "nbconvert_exporter": "python",
   "pygments_lexer": "ipython3",
   "version": "3.11.0"
  },
  "orig_nbformat": 4
 },
 "nbformat": 4,
 "nbformat_minor": 2
}
