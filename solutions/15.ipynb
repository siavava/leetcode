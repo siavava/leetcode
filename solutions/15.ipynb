{
 "cells": [
  {
   "cell_type": "markdown",
   "metadata": {},
   "source": [
    "# 15: Three Sum \n",
    "\n",
    "Given an integer array nums, return all the triplets [nums[i], nums[j], nums[k]] such that i != j, i != k, and j != k, and nums[i] + nums[j] + nums[k] == 0.\n",
    "\n",
    "Notice that the solution set must not contain duplicate triplets.\n",
    "\n",
    " \n",
    "\n",
    "Example 1:\n",
    "\n",
    "Input: nums = [-1,0,1,2,-1,-4]\n",
    "Output: [[-1,-1,2],[-1,0,1]]\n",
    "Explanation: \n",
    "nums[0] + nums[1] + nums[2] = (-1) + 0 + 1 = 0.\n",
    "nums[1] + nums[2] + nums[4] = 0 + 1 + (-1) = 0.\n",
    "nums[0] + nums[3] + nums[4] = (-1) + 2 + (-1) = 0.\n",
    "The distinct triplets are [-1,0,1] and [-1,-1,2].\n",
    "Notice that the order of the output and the order of the triplets does not matter.\n",
    "Example 2:\n",
    "\n",
    "Input: nums = [0,1,1]\n",
    "Output: []\n",
    "Explanation: The only possible triplet does not sum up to 0.\n",
    "Example 3:\n",
    "\n",
    "Input: nums = [0,0,0]\n",
    "Output: [[0,0,0]]\n",
    "Explanation: The only possible triplet sums up to 0.\n",
    " \n",
    "\n",
    "Constraints:\n",
    "\n",
    "3 <= nums.length <= 3000\n",
    "-105 <= nums[i] <= 105"
   ]
  },
  {
   "cell_type": "code",
   "execution_count": 1,
   "metadata": {},
   "outputs": [],
   "source": [
    "from collections import Counter\n",
    "from typing import List\n",
    "\n",
    "class Solution:\n",
    "    def threeSum(self, nums: List[int]) -> List[List[int]]:\n",
    "\n",
    "        # counts!!\n",
    "        counts = Counter()\n",
    "        result = set()\n",
    "        nums.sort()\n",
    "\n",
    "        n = len(nums)\n",
    "        for num in nums:\n",
    "\n",
    "            others = self.twoSum(counts, -num)\n",
    "            for other in others:\n",
    "\n",
    "                result.add( (num, *other) )\n",
    "\n",
    "            counts[num] += 1\n",
    "\n",
    "        return [ *result ]\n",
    "\n",
    "    def twoSum(self, counts: Counter[int], target) -> List[List[int]]:\n",
    "        result = []\n",
    "        for num in counts.keys():\n",
    "            if counts[num] > 0:\n",
    "                complement = target - num\n",
    "                if num < complement and counts[complement] > 0 \\\n",
    "                    or num == complement and counts[num] >= 2:\n",
    "                    result.append( [num, complement] )\n",
    "\n",
    "        return result\n"
   ]
  },
  {
   "cell_type": "code",
   "execution_count": 3,
   "metadata": {},
   "outputs": [
    {
     "name": "stdout",
     "output_type": "stream",
     "text": [
      "Input: [-1, 0, 1, 2, -1, -4], Output: [(1, -1, 0), (2, -1, -1)]\n",
      "Input: [0, 1, 1], Output: []\n",
      "Input: [0, 0, 0], Output: [(0, 0, 0)]\n"
     ]
    }
   ],
   "source": [
    "test_cases = [\n",
    "\t[-1,0,1,2,-1,-4], \n",
    "    [0,1,1],\n",
    "    [0,0,0]\n",
    "]\n",
    "\n",
    "solver = Solution()\n",
    "for test_case in test_cases:\n",
    "    print(f\"Input: {test_case}, Output: {solver.threeSum(test_case)}\")"
   ]
  }
 ],
 "metadata": {
  "kernelspec": {
   "display_name": "leetcode",
   "language": "python",
   "name": "python3"
  },
  "language_info": {
   "codemirror_mode": {
    "name": "ipython",
    "version": 3
   },
   "file_extension": ".py",
   "mimetype": "text/x-python",
   "name": "python",
   "nbconvert_exporter": "python",
   "pygments_lexer": "ipython3",
   "version": "3.11.0"
  },
  "orig_nbformat": 4
 },
 "nbformat": 4,
 "nbformat_minor": 2
}
