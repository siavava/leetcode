{
 "cells": [
  {
   "cell_type": "markdown",
   "metadata": {},
   "source": [
    "# 28. Find the Index of the First Occurrence in a String\n",
    "\n",
    "Given two strings needle and haystack, return the index of the first occurrence\n",
    "of needle in haystack, or `-1` if needle is not part of haystack.\n",
    "\n",
    "## Example 1:\n",
    "\n",
    "```bash\n",
    "Input: haystack = \"sadbutsad\", needle = \"sad\"\n",
    "Output: 0\n",
    "Explanation: \"sad\" occurs at index 0 and 6.\n",
    "The first occurrence is at index 0, so we return 0.\n",
    "```\n",
    "\n",
    "## Example 2:\n",
    "\n",
    "```bash\n",
    "Input: haystack = \"leetcode\", needle = \"leeto\"\n",
    "Output: -1\n",
    "Explanation: \"leeto\" did not occur in \"leetcode\", so we return -1.\n",
    "```\n",
    "\n",
    "## Constraints:\n",
    "\n",
    "- `1 <= haystack.length, needle.length <= 104`\n",
    "- haystack and needle consist of only lowercase English characters."
   ]
  },
  {
   "cell_type": "code",
   "execution_count": 1,
   "metadata": {},
   "outputs": [],
   "source": [
    "class Solution:\n",
    "    def strStr(self, haystack: str, needle: str) -> int:\n",
    "        \n",
    "        n, k = len(haystack), len(needle)\n",
    "\n",
    "        if n < k:   return -1\n",
    "\n",
    "        for i in range(n-k+1):\n",
    "            j = 0\n",
    "            while j < k and haystack[i+j] == needle[j]:\n",
    "                j += 1\n",
    "\n",
    "            if j == k:\n",
    "                return i\n",
    "\n",
    "        return -1\n"
   ]
  },
  {
   "cell_type": "code",
   "execution_count": 4,
   "metadata": {},
   "outputs": [
    {
     "name": "stdout",
     "output_type": "stream",
     "text": [
      "0, 0\n",
      "-1, -1\n",
      "7, 7\n"
     ]
    }
   ],
   "source": [
    "solver = Solution()\n",
    "\n",
    "test_cases = [\n",
    "    (\"sadbutsad\", \"sad\", 0),\n",
    "    (\"leetcode\", \"leeto\", -1),\n",
    "    (\"amittaisiavavaamittaisiavava\", \"sia\", 7),\n",
    "]\n",
    "\n",
    "for haystack, needle, expected in test_cases:\n",
    "    actual = solver.strStr(haystack, needle)\n",
    "    print(f\"{actual}, {expected}\")\n",
    "    assert solver.strStr(haystack, needle) == expected"
   ]
  }
 ],
 "metadata": {
  "kernelspec": {
   "display_name": "Python 3",
   "language": "python",
   "name": "python3"
  },
  "language_info": {
   "codemirror_mode": {
    "name": "ipython",
    "version": 3
   },
   "file_extension": ".py",
   "mimetype": "text/x-python",
   "name": "python",
   "nbconvert_exporter": "python",
   "pygments_lexer": "ipython3",
   "version": "3.11.4"
  },
  "orig_nbformat": 4
 },
 "nbformat": 4,
 "nbformat_minor": 2
}
